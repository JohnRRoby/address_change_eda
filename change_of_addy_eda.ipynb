{
 "cells": [
  {
   "cell_type": "markdown",
   "id": "f15133f9",
   "metadata": {},
   "source": [
    "\n",
    "I learned from the [Data is Plural newsletter](https://www.data-is-plural.com/) that the U.S. Postal Service regularly releases numbers of Change of Address (COA) filings by ZIP code. [Here's the data.](https://about.usps.com/who/legal/foia/library.htm)\n",
    "\n",
    "This is an exploratory data analysis of the USPS's Change of Address data. I suspect if ZIP codes can be ranked by net change, then combining apartment rental data would be insightful.     \n",
    "      \n",
    "\n"
   ]
  },
  {
   "cell_type": "code",
   "execution_count": 1,
   "id": "dbf4b5dc",
   "metadata": {},
   "outputs": [
    {
     "name": "stderr",
     "output_type": "stream",
     "text": [
      "── \u001b[1mAttaching packages\u001b[22m ─────────────────────────────────────── tidyverse 1.3.2 ──\n",
      "\u001b[32m✔\u001b[39m \u001b[34mggplot2\u001b[39m 3.4.0      \u001b[32m✔\u001b[39m \u001b[34mpurrr  \u001b[39m 0.3.4 \n",
      "\u001b[32m✔\u001b[39m \u001b[34mtibble \u001b[39m 3.1.6      \u001b[32m✔\u001b[39m \u001b[34mdplyr  \u001b[39m 1.0.10\n",
      "\u001b[32m✔\u001b[39m \u001b[34mtidyr  \u001b[39m 1.2.1      \u001b[32m✔\u001b[39m \u001b[34mstringr\u001b[39m 1.4.0 \n",
      "\u001b[32m✔\u001b[39m \u001b[34mreadr  \u001b[39m 2.1.3      \u001b[32m✔\u001b[39m \u001b[34mforcats\u001b[39m 0.5.2 \n",
      "── \u001b[1mConflicts\u001b[22m ────────────────────────────────────────── tidyverse_conflicts() ──\n",
      "\u001b[31m✖\u001b[39m \u001b[34mdplyr\u001b[39m::\u001b[32mfilter()\u001b[39m masks \u001b[34mstats\u001b[39m::filter()\n",
      "\u001b[31m✖\u001b[39m \u001b[34mdplyr\u001b[39m::\u001b[32mlag()\u001b[39m    masks \u001b[34mstats\u001b[39m::lag()\n"
     ]
    }
   ],
   "source": [
    "library(tidyverse)"
   ]
  },
  {
   "cell_type": "code",
   "execution_count": 42,
   "id": "6acbc1d2",
   "metadata": {},
   "outputs": [],
   "source": [
    "# this is restricted to year 2023 as proof of concept. specify class type to keep leading 0s in ZIP codes.\n",
    "\n",
    "y2023 <- read.csv(\"y2023_for_eda.csv\", colClasses = c(zipcode = \"character\"), stringsAsFactors = FALSE)\n",
    "str(y2023)\n",
    "head(y2023)"
   ]
  },
  {
   "cell_type": "code",
   "execution_count": 44,
   "id": "af76578c",
   "metadata": {},
   "outputs": [],
   "source": [
    "# clean up city capitalization\n",
    "\n",
    "y2023$city <- str_to_title(y2023$city)\n",
    "\n",
    "\n",
    "# remove not-states. shld be 51 (inc. DC) and hackily recode the month. This works only because I know there's just 2 values\n",
    "\n",
    "\n",
    "length(unique(y2023$state))\n",
    "\n",
    "y2023 <- filter(y2023, state != \"AA\" & state != \"VI\" & state != \"AE\" & state != \"AP\" & state != \"GU\" & state != \"MP\" & state != \"PR\")\n",
    "\n",
    "length(unique(y2023$state))\n",
    "head(y2023)\n",
    "\n",
    "unique(y2023$month)\n",
    "\n",
    "y2023$month <- ifelse(y2023$month == 202301, \"Jan.\", \"Feb.\")\n",
    "\n",
    "unique(y2023$month)\n",
    "\n",
    "\n",
    "str(y2023)\n",
    "head(y2023)\n"
   ]
  },
  {
   "cell_type": "code",
   "execution_count": 58,
   "id": "30d8ba61",
   "metadata": {},
   "outputs": [
    {
     "name": "stderr",
     "output_type": "stream",
     "text": [
      "\u001b[1m\u001b[22m`summarise()` has grouped output by 'zipcode', 'city'. You can override using\n",
      "the `.groups` argument.\n"
     ]
    },
    {
     "data": {
      "text/html": [
       "<table class=\"dataframe\">\n",
       "<caption>A grouped_df: 25 × 4</caption>\n",
       "<thead>\n",
       "\t<tr><th scope=col>zipcode</th><th scope=col>city</th><th scope=col>state</th><th scope=col>net_change</th></tr>\n",
       "\t<tr><th scope=col>&lt;chr&gt;</th><th scope=col>&lt;chr&gt;</th><th scope=col>&lt;chr&gt;</th><th scope=col>&lt;int&gt;</th></tr>\n",
       "</thead>\n",
       "<tbody>\n",
       "\t<tr><td>34135</td><td>Bonita Springs    </td><td>FL</td><td>1883</td></tr>\n",
       "\t<tr><td>32162</td><td>The Villages      </td><td>FL</td><td>1344</td></tr>\n",
       "\t<tr><td>32163</td><td>The Villages      </td><td>FL</td><td>1332</td></tr>\n",
       "\t<tr><td>34145</td><td>Marco Island      </td><td>FL</td><td>1331</td></tr>\n",
       "\t<tr><td>33928</td><td>Estero            </td><td>FL</td><td>1264</td></tr>\n",
       "\t<tr><td>34112</td><td>Naples            </td><td>FL</td><td>1211</td></tr>\n",
       "\t<tr><td>34293</td><td>Venice            </td><td>FL</td><td>1174</td></tr>\n",
       "\t<tr><td>34114</td><td>Naples            </td><td>FL</td><td>1158</td></tr>\n",
       "\t<tr><td>33908</td><td>Fort Myers        </td><td>FL</td><td>1063</td></tr>\n",
       "\t<tr><td>34110</td><td>Naples            </td><td>FL</td><td> 970</td></tr>\n",
       "\t<tr><td>34285</td><td>Venice            </td><td>FL</td><td> 948</td></tr>\n",
       "\t<tr><td>34113</td><td>Naples            </td><td>FL</td><td> 944</td></tr>\n",
       "\t<tr><td>34957</td><td>Jensen Beach      </td><td>FL</td><td> 870</td></tr>\n",
       "\t<tr><td>34108</td><td>Naples            </td><td>FL</td><td> 860</td></tr>\n",
       "\t<tr><td>34242</td><td>Sarasota          </td><td>FL</td><td> 799</td></tr>\n",
       "\t<tr><td>33913</td><td>Fort Myers        </td><td>FL</td><td> 797</td></tr>\n",
       "\t<tr><td>34134</td><td>Bonita Springs    </td><td>FL</td><td> 789</td></tr>\n",
       "\t<tr><td>34223</td><td>Englewood         </td><td>FL</td><td> 737</td></tr>\n",
       "\t<tr><td>33950</td><td>Punta Gorda       </td><td>FL</td><td> 701</td></tr>\n",
       "\t<tr><td>34228</td><td>Longboat Key      </td><td>FL</td><td> 700</td></tr>\n",
       "\t<tr><td>85374</td><td>Surprise          </td><td>AZ</td><td> 658</td></tr>\n",
       "\t<tr><td>85375</td><td>Sun City West     </td><td>AZ</td><td> 652</td></tr>\n",
       "\t<tr><td>34119</td><td>Naples            </td><td>FL</td><td> 651</td></tr>\n",
       "\t<tr><td>34104</td><td>Naples            </td><td>FL</td><td> 641</td></tr>\n",
       "\t<tr><td>29928</td><td>Hilton Head Island</td><td>SC</td><td> 632</td></tr>\n",
       "</tbody>\n",
       "</table>\n"
      ],
      "text/latex": [
       "A grouped\\_df: 25 × 4\n",
       "\\begin{tabular}{llll}\n",
       " zipcode & city & state & net\\_change\\\\\n",
       " <chr> & <chr> & <chr> & <int>\\\\\n",
       "\\hline\n",
       "\t 34135 & Bonita Springs     & FL & 1883\\\\\n",
       "\t 32162 & The Villages       & FL & 1344\\\\\n",
       "\t 32163 & The Villages       & FL & 1332\\\\\n",
       "\t 34145 & Marco Island       & FL & 1331\\\\\n",
       "\t 33928 & Estero             & FL & 1264\\\\\n",
       "\t 34112 & Naples             & FL & 1211\\\\\n",
       "\t 34293 & Venice             & FL & 1174\\\\\n",
       "\t 34114 & Naples             & FL & 1158\\\\\n",
       "\t 33908 & Fort Myers         & FL & 1063\\\\\n",
       "\t 34110 & Naples             & FL &  970\\\\\n",
       "\t 34285 & Venice             & FL &  948\\\\\n",
       "\t 34113 & Naples             & FL &  944\\\\\n",
       "\t 34957 & Jensen Beach       & FL &  870\\\\\n",
       "\t 34108 & Naples             & FL &  860\\\\\n",
       "\t 34242 & Sarasota           & FL &  799\\\\\n",
       "\t 33913 & Fort Myers         & FL &  797\\\\\n",
       "\t 34134 & Bonita Springs     & FL &  789\\\\\n",
       "\t 34223 & Englewood          & FL &  737\\\\\n",
       "\t 33950 & Punta Gorda        & FL &  701\\\\\n",
       "\t 34228 & Longboat Key       & FL &  700\\\\\n",
       "\t 85374 & Surprise           & AZ &  658\\\\\n",
       "\t 85375 & Sun City West      & AZ &  652\\\\\n",
       "\t 34119 & Naples             & FL &  651\\\\\n",
       "\t 34104 & Naples             & FL &  641\\\\\n",
       "\t 29928 & Hilton Head Island & SC &  632\\\\\n",
       "\\end{tabular}\n"
      ],
      "text/markdown": [
       "\n",
       "A grouped_df: 25 × 4\n",
       "\n",
       "| zipcode &lt;chr&gt; | city &lt;chr&gt; | state &lt;chr&gt; | net_change &lt;int&gt; |\n",
       "|---|---|---|---|\n",
       "| 34135 | Bonita Springs     | FL | 1883 |\n",
       "| 32162 | The Villages       | FL | 1344 |\n",
       "| 32163 | The Villages       | FL | 1332 |\n",
       "| 34145 | Marco Island       | FL | 1331 |\n",
       "| 33928 | Estero             | FL | 1264 |\n",
       "| 34112 | Naples             | FL | 1211 |\n",
       "| 34293 | Venice             | FL | 1174 |\n",
       "| 34114 | Naples             | FL | 1158 |\n",
       "| 33908 | Fort Myers         | FL | 1063 |\n",
       "| 34110 | Naples             | FL |  970 |\n",
       "| 34285 | Venice             | FL |  948 |\n",
       "| 34113 | Naples             | FL |  944 |\n",
       "| 34957 | Jensen Beach       | FL |  870 |\n",
       "| 34108 | Naples             | FL |  860 |\n",
       "| 34242 | Sarasota           | FL |  799 |\n",
       "| 33913 | Fort Myers         | FL |  797 |\n",
       "| 34134 | Bonita Springs     | FL |  789 |\n",
       "| 34223 | Englewood          | FL |  737 |\n",
       "| 33950 | Punta Gorda        | FL |  701 |\n",
       "| 34228 | Longboat Key       | FL |  700 |\n",
       "| 85374 | Surprise           | AZ |  658 |\n",
       "| 85375 | Sun City West      | AZ |  652 |\n",
       "| 34119 | Naples             | FL |  651 |\n",
       "| 34104 | Naples             | FL |  641 |\n",
       "| 29928 | Hilton Head Island | SC |  632 |\n",
       "\n"
      ],
      "text/plain": [
       "   zipcode city               state net_change\n",
       "1  34135   Bonita Springs     FL    1883      \n",
       "2  32162   The Villages       FL    1344      \n",
       "3  32163   The Villages       FL    1332      \n",
       "4  34145   Marco Island       FL    1331      \n",
       "5  33928   Estero             FL    1264      \n",
       "6  34112   Naples             FL    1211      \n",
       "7  34293   Venice             FL    1174      \n",
       "8  34114   Naples             FL    1158      \n",
       "9  33908   Fort Myers         FL    1063      \n",
       "10 34110   Naples             FL     970      \n",
       "11 34285   Venice             FL     948      \n",
       "12 34113   Naples             FL     944      \n",
       "13 34957   Jensen Beach       FL     870      \n",
       "14 34108   Naples             FL     860      \n",
       "15 34242   Sarasota           FL     799      \n",
       "16 33913   Fort Myers         FL     797      \n",
       "17 34134   Bonita Springs     FL     789      \n",
       "18 34223   Englewood          FL     737      \n",
       "19 33950   Punta Gorda        FL     701      \n",
       "20 34228   Longboat Key       FL     700      \n",
       "21 85374   Surprise           AZ     658      \n",
       "22 85375   Sun City West      AZ     652      \n",
       "23 34119   Naples             FL     651      \n",
       "24 34104   Naples             FL     641      \n",
       "25 29928   Hilton Head Island SC     632      "
      ]
     },
     "metadata": {},
     "output_type": "display_data"
    }
   ],
   "source": [
    "# Yes, we can easily calculate net change by ZIP codes or cities, monthly, annually, and/or over time.\n",
    "\n",
    "y2023 %>%\n",
    "    group_by(zipcode, city, state) %>%\n",
    "    summarize(\n",
    "    net_change = sum(total_to_less_biz) - sum(total_from_less_biz)\n",
    "    ) %>%\n",
    "    arrange(desc(net_change)) %>%\n",
    "    head(25)"
   ]
  },
  {
   "cell_type": "code",
   "execution_count": null,
   "id": "a4dcc1a2",
   "metadata": {},
   "outputs": [],
   "source": []
  }
 ],
 "metadata": {
  "kernelspec": {
   "display_name": "R",
   "language": "R",
   "name": "ir"
  },
  "language_info": {
   "codemirror_mode": "r",
   "file_extension": ".r",
   "mimetype": "text/x-r-source",
   "name": "R",
   "pygments_lexer": "r",
   "version": "4.1.2"
  },
  "toc": {
   "base_numbering": 1,
   "nav_menu": {},
   "number_sections": true,
   "sideBar": true,
   "skip_h1_title": false,
   "title_cell": "Table of Contents",
   "title_sidebar": "Contents",
   "toc_cell": false,
   "toc_position": {},
   "toc_section_display": true,
   "toc_window_display": false
  }
 },
 "nbformat": 4,
 "nbformat_minor": 5
}
